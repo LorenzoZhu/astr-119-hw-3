{
 "cells": [
  {
   "cell_type": "code",
   "execution_count": null,
   "metadata": {},
   "outputs": [],
   "source": [
    "%matplotlib inline\n",
    "import numpy as np\n",
    "import matplotlib.pyplot as plt"
   ]
  },
  {
   "cell_type": "code",
   "execution_count": null,
   "metadata": {},
   "outputs": [],
   "source": [
    "#define main function\n",
    "def function_for_roots(x):\n",
    "    a = 1.01\n",
    "    b = -3.04\n",
    "    c = 2.07\n",
    "    return a*x**2 + b*x + c"
   ]
  },
  {
   "cell_type": "code",
   "execution_count": null,
   "metadata": {},
   "outputs": [],
   "source": [
    "#define a function to check initial values\n",
    "def check_initial_values(f,x_min, x_max,tol):\n",
    "    y_min = f(x_min)\n",
    "    y_max = f(x_max)\n",
    "    \n",
    "    if(y_min*y_max>=0):\n",
    "        print(\"No zero crossing found in the range = \",x_min,x_max)\n",
    "        s = \"f(%f)=%f, f(%f)=%f\" % (x_min,y_min,x_max,y_max)\n",
    "        print(s)\n",
    "        return 0\n",
    "    \n",
    "    if(np.fabs(y_min)<tol):\n",
    "        return 1\n",
    "    \n",
    "    if(np.fabs(y_max)<tol):\n",
    "        return 2\n",
    "    \n",
    "    return 3\n",
    "    "
   ]
  },
  {
   "cell_type": "code",
   "execution_count": null,
   "metadata": {},
   "outputs": [],
   "source": [
    "def bisection_root_finding(f,x_min_start,x_max_start,tol):\n",
    "    \n",
    "    x_min = x_min_start\n",
    "    x_max = x_max_start\n",
    "    x_mid = 0.0\n",
    "    \n",
    "    y_min = f(x_min)\n",
    "    y_max = f(x_max)\n",
    "    y_mid = 0.0\n",
    "    \n",
    "    imax = 10000   #max iteartion times\n",
    "    i = 0\n",
    "    \n",
    "    #check the initila values\n",
    "    flag = check_initial_values(f,x_min,x_max,tol)\n",
    "    if(flag==0):\n",
    "        print(\"Error in bisection_root_finding().\")\n",
    "    elif(flag==1):\n",
    "        return x_min\n",
    "    elif(flag==2):\n",
    "        return x_max\n",
    "    \n",
    "    #conduct the search\n",
    "    flag = 1\n",
    "    while(flag):\n",
    "        x_mid = 0.5*(x_min + x_max)\n",
    "        y_mid = f(x_mid)\n",
    "        \n",
    "        if(np.fabs(y_mid)<tol):\n",
    "            flag = 0\n",
    "        else:\n",
    "            if(f(x_min)*f(x_mid)>0):\n",
    "                x_min = x_mid\n",
    "            else:\n",
    "                x_max = x_mid\n",
    "                \n",
    "        #print iteration        \n",
    "        print(x_min,f(x_min),x_max,f(x_max))\n",
    "        \n",
    "        #count iteration\n",
    "        i += 1\n",
    "        \n",
    "        #if exceeded the max number of iteration, exit\n",
    "        if(i>imax):\n",
    "            print(\"Exceeded max number of iterations = \",i)\n",
    "            s = \"Min bracket f(%f) = %f\" % (x_min,f(x_min))\n",
    "            print(s)\n",
    "            s = \"Max bracket f(%f) = %f\" % (x_max,f(x_max))\n",
    "            print(s)\n",
    "            s = \"Mid bracket f(%f) = %f\" % (x_mid,f(x_mid))\n",
    "            print(s)\n",
    "            \n",
    "            raise StopIteration('Stoping iteration after ',i)\n",
    "            \n",
    "    return x_mid\n",
    "    "
   ]
  },
  {
   "cell_type": "code",
   "execution_count": null,
   "metadata": {},
   "outputs": [],
   "source": [
    "#perform the search 1\n",
    "x_min1 = 0.2\n",
    "x_max1 = 1.3\n",
    "tol = 1.0e-6\n",
    "\n",
    "#print the initial guesses\n",
    "print(x_min1,function_for_roots(x_min1))\n",
    "print(x_max1,function_for_roots(x_max1))\n",
    "\n",
    "x_root1 = bisection_root_finding(function_for_roots,x_min1, x_max1, tol)\n",
    "y_root1 = function_for_roots(x_root1)\n",
    "\n",
    "s = \"Root found with y(%f) = %f\" % (x_root1,y_root1)\n",
    "print(s)"
   ]
  },
  {
   "cell_type": "code",
   "execution_count": null,
   "metadata": {},
   "outputs": [],
   "source": [
    "#perform the search 2\n",
    "x_min2 = 1.8\n",
    "x_max2 = 2.2\n",
    "tol = 1.0e-6\n",
    "\n",
    "#print the initial guesses\n",
    "print(x_min2,function_for_roots(x_min2))\n",
    "print(x_max2,function_for_roots(x_max2))\n",
    "\n",
    "x_root2 = bisection_root_finding(function_for_roots,x_min2, x_max2, tol)\n",
    "y_root2 = function_for_roots(x_root2)\n",
    "\n",
    "s = \"Root found with y(%f) = %f\" % (x_root2,y_root2)\n",
    "print(s)"
   ]
  },
  {
   "cell_type": "markdown",
   "metadata": {},
   "source": [
    "## By those initial guesses 17/15 iterations took to converage"
   ]
  },
  {
   "cell_type": "code",
   "execution_count": null,
   "metadata": {},
   "outputs": [],
   "source": [
    "#plot the function\n",
    "x = np.linspace(0,3,1000)\n",
    "plt.plot(x, function_for_roots(x))\n",
    "plt.ylim(-0.5,2.1)\n",
    "plt.xlim(0,3)\n",
    "\n",
    "#add horizontal line at z=0\n",
    "plt.axhline(y=0, linestyle='-')\n",
    "\n",
    "#highlight initial bracketing values and roots\n",
    "plt.plot(x_root1, y_root1, marker='o', markersize=4, color=\"red\")\n",
    "plt.plot(x_root2, y_root2, marker='o', markersize=4, color=\"yellow\")\n",
    "\n",
    "plt.plot(0.2,1.5023999999999997, marker='o', markersize=4, color=\"green\")\n",
    "plt.plot(1.3,-0.17510000000000048, marker='o', markersize=4, color=\"green\")\n",
    "\n",
    "plt.plot(1.8, -0.12960000000000038, marker='o', markersize=4, color=\"black\")\n",
    "plt.plot(2.2,0.2704, marker='o', markersize=4, color=\"black\")"
   ]
  }
 ],
 "metadata": {
  "kernelspec": {
   "display_name": "Python 3",
   "language": "python",
   "name": "python3"
  },
  "language_info": {
   "codemirror_mode": {
    "name": "ipython",
    "version": 3
   },
   "file_extension": ".py",
   "mimetype": "text/x-python",
   "name": "python",
   "nbconvert_exporter": "python",
   "pygments_lexer": "ipython3",
   "version": "3.4.6"
  }
 },
 "nbformat": 4,
 "nbformat_minor": 2
}
